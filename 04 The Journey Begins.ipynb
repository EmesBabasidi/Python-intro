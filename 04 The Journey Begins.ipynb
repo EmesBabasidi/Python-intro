{
 "cells": [
  {
   "cell_type": "markdown",
   "id": "390a3e8d",
   "metadata": {},
   "source": [
    "# Data Types"
   ]
  },
  {
   "cell_type": "markdown",
   "id": "2a0202a4",
   "metadata": {},
   "source": [
    "The most basic data types used in python are: integer(int), float, string(str) and boolean(bool)."
   ]
  },
  {
   "cell_type": "code",
   "execution_count": 1,
   "id": "f6a4ef84",
   "metadata": {},
   "outputs": [
    {
     "name": "stdout",
     "output_type": "stream",
     "text": [
      "This is an integer value:  3\n",
      "This is a floating point value: 3.12\n",
      "This is a string\n",
      "This is a boolean value:  True\n"
     ]
    }
   ],
   "source": [
    "print(\"This is an integer value: \", 3)  # int represent a whole number without decimal point\n",
    "print(\"This is a floating point value:\",3.12) # float rrepresent number with decimal point\n",
    "print(\"This is a string\") # string represent a sequence of characters enclosed in double or single qoutes\n",
    "print(\"This is a boolean value: \",True) # Boolean represents binary values of True or False"
   ]
  },
  {
   "cell_type": "markdown",
   "id": "86b0e92d",
   "metadata": {},
   "source": [
    "# Operators"
   ]
  },
  {
   "cell_type": "markdown",
   "id": "63870726",
   "metadata": {},
   "source": [
    "There are various operators in python but the basic operators are:\n",
    "## 1. Arithemetic operators:"
   ]
  },
  {
   "cell_type": "code",
   "execution_count": 2,
   "id": "b62c1cf6",
   "metadata": {},
   "outputs": [],
   "source": [
    "a = 3\n",
    "b = 4"
   ]
  },
  {
   "cell_type": "markdown",
   "id": "21076c0c",
   "metadata": {},
   "source": [
    "#### Addition"
   ]
  },
  {
   "cell_type": "code",
   "execution_count": 3,
   "id": "25828ba0",
   "metadata": {},
   "outputs": [
    {
     "name": "stdout",
     "output_type": "stream",
     "text": [
      "7\n"
     ]
    }
   ],
   "source": [
    "c = a + b\n",
    "print(c)"
   ]
  },
  {
   "cell_type": "markdown",
   "id": "a5a99127",
   "metadata": {},
   "source": [
    "#### Subtraction "
   ]
  },
  {
   "cell_type": "code",
   "execution_count": 4,
   "id": "c42f8c98",
   "metadata": {},
   "outputs": [
    {
     "name": "stdout",
     "output_type": "stream",
     "text": [
      "1\n"
     ]
    }
   ],
   "source": [
    "c = b - a\n",
    "print(c)"
   ]
  },
  {
   "cell_type": "markdown",
   "id": "72029e06",
   "metadata": {},
   "source": [
    "#### Multiplication"
   ]
  },
  {
   "cell_type": "code",
   "execution_count": 5,
   "id": "4e2ca933",
   "metadata": {},
   "outputs": [
    {
     "name": "stdout",
     "output_type": "stream",
     "text": [
      "12\n"
     ]
    }
   ],
   "source": [
    "c = a * b\n",
    "print(c)"
   ]
  },
  {
   "cell_type": "markdown",
   "id": "9c931ef1",
   "metadata": {},
   "source": [
    "#### Division"
   ]
  },
  {
   "cell_type": "code",
   "execution_count": 6,
   "id": "17c6c419",
   "metadata": {},
   "outputs": [
    {
     "name": "stdout",
     "output_type": "stream",
     "text": [
      "0.75\n"
     ]
    }
   ],
   "source": [
    "c = a / b\n",
    "print(c)"
   ]
  },
  {
   "cell_type": "markdown",
   "id": "be37f7a4",
   "metadata": {},
   "source": [
    "#### Floor Division\n",
    "This returns the integer part of the answer only."
   ]
  },
  {
   "cell_type": "code",
   "execution_count": 7,
   "id": "8942ba6c",
   "metadata": {},
   "outputs": [
    {
     "name": "stdout",
     "output_type": "stream",
     "text": [
      "1\n"
     ]
    }
   ],
   "source": [
    "c = b // a\n",
    "print(c)"
   ]
  },
  {
   "cell_type": "markdown",
   "id": "37118318",
   "metadata": {},
   "source": [
    "#### Modulus\n",
    "This return the remainder of a division."
   ]
  },
  {
   "cell_type": "code",
   "execution_count": 8,
   "id": "8f41a296",
   "metadata": {},
   "outputs": [
    {
     "name": "stdout",
     "output_type": "stream",
     "text": [
      "1\n"
     ]
    }
   ],
   "source": [
    "c = b % a\n",
    "print(c)"
   ]
  },
  {
   "cell_type": "markdown",
   "id": "9aca910a",
   "metadata": {},
   "source": [
    "#### Exponentiation\n",
    "eg: **a** power of **b**"
   ]
  },
  {
   "cell_type": "code",
   "execution_count": 9,
   "id": "0d2e24dd",
   "metadata": {},
   "outputs": [
    {
     "name": "stdout",
     "output_type": "stream",
     "text": [
      "81\n"
     ]
    }
   ],
   "source": [
    "c = a ** b\n",
    "print(c)"
   ]
  },
  {
   "cell_type": "markdown",
   "id": "95467418",
   "metadata": {},
   "source": [
    "### Order of Operations (PEMDAS)\n",
    "The order of arithmetic operations in Python follows PEMDAS: Parentheses: () Exponents: ** Multiplication and Division: *, /, //, % (left to right) Addition and Subtraction: +, - (left to right) Example:"
   ]
  },
  {
   "cell_type": "code",
   "execution_count": 10,
   "id": "a52458ed",
   "metadata": {},
   "outputs": [
    {
     "name": "stdout",
     "output_type": "stream",
     "text": [
      "16.0\n"
     ]
    }
   ],
   "source": [
    "result = (3 + 2) * 2 ** 2 / (5 - 3) + 6\n",
    "# Steps:\n",
    "# 1. Parentheses: (3 + 2) -> 5 and (5 - 3) -> 2\n",
    "# 2. Exponents: 2 ** 2 -> 4\n",
    "# 3. Multiplication/Division (left to right): 5 * 4 -> 20, 20 / 2 -> 10.0\n",
    "# 4. Addition: 10.0 + 6 -> 16.0\n",
    "print(result)  # Output: 16.0"
   ]
  },
  {
   "cell_type": "markdown",
   "id": "99de9363",
   "metadata": {},
   "source": [
    "## 2. Comparison Operators\n",
    "Comparison operators compare two values and return a boolean result."
   ]
  },
  {
   "cell_type": "markdown",
   "id": "4aab525a",
   "metadata": {},
   "source": [
    "#### Equal to (==): Checks if two values are equal."
   ]
  },
  {
   "cell_type": "code",
   "execution_count": 11,
   "id": "3ed688fe",
   "metadata": {},
   "outputs": [
    {
     "name": "stdout",
     "output_type": "stream",
     "text": [
      "False\n"
     ]
    }
   ],
   "source": [
    "result = (a == b)  # Output: False\n",
    "print(result)"
   ]
  },
  {
   "cell_type": "markdown",
   "id": "ab0236ff",
   "metadata": {},
   "source": [
    "#### Not equal to (!=): Checks if two values are not equal."
   ]
  },
  {
   "cell_type": "code",
   "execution_count": 12,
   "id": "2778ee87",
   "metadata": {},
   "outputs": [
    {
     "name": "stdout",
     "output_type": "stream",
     "text": [
      "True\n"
     ]
    }
   ],
   "source": [
    "result = (a != b)  # Output: True\n",
    "print(result)"
   ]
  },
  {
   "cell_type": "markdown",
   "id": "5d242fc6",
   "metadata": {},
   "source": [
    "#### Greater than (>): Checks if the first value is greater than the second."
   ]
  },
  {
   "cell_type": "code",
   "execution_count": 13,
   "id": "c4216839",
   "metadata": {},
   "outputs": [
    {
     "name": "stdout",
     "output_type": "stream",
     "text": [
      "True\n"
     ]
    }
   ],
   "source": [
    "result = (b > a)  # Output: True\n",
    "print(result)"
   ]
  },
  {
   "cell_type": "markdown",
   "id": "7988efa4",
   "metadata": {},
   "source": [
    "#### Less than (<): Checks if the first value is less than the second."
   ]
  },
  {
   "cell_type": "code",
   "execution_count": 14,
   "id": "6f55a843",
   "metadata": {},
   "outputs": [
    {
     "name": "stdout",
     "output_type": "stream",
     "text": [
      "False\n"
     ]
    }
   ],
   "source": [
    "result = (b < a)  # Output: False\n",
    "print(result)"
   ]
  },
  {
   "cell_type": "markdown",
   "id": "5300c7ad",
   "metadata": {},
   "source": [
    "#### Greater than or equal to (>=): Checks if the first value is greater than or equal to the second."
   ]
  },
  {
   "cell_type": "code",
   "execution_count": 15,
   "id": "c45f642b",
   "metadata": {},
   "outputs": [
    {
     "name": "stdout",
     "output_type": "stream",
     "text": [
      "True\n"
     ]
    }
   ],
   "source": [
    "result = (b >= a)  # Output: True\n",
    "print(result)"
   ]
  },
  {
   "cell_type": "markdown",
   "id": "c5c341d5",
   "metadata": {},
   "source": [
    "#### Less than or equal to (<=): Checks if the first value is less than or equal to the second.\n"
   ]
  },
  {
   "cell_type": "code",
   "execution_count": 16,
   "id": "45ff81f2",
   "metadata": {},
   "outputs": [
    {
     "name": "stdout",
     "output_type": "stream",
     "text": [
      "False\n"
     ]
    }
   ],
   "source": [
    "result = (b <= a)  # Output: False\n",
    "print(result)"
   ]
  },
  {
   "cell_type": "markdown",
   "id": "5603741e",
   "metadata": {},
   "source": [
    "## 3. Logical Operators\n",
    "Logical operators combine conditional statements."
   ]
  },
  {
   "cell_type": "markdown",
   "id": "7cfe5b5b",
   "metadata": {},
   "source": [
    "#### AND (and): Returns True if both statements are true."
   ]
  },
  {
   "cell_type": "code",
   "execution_count": 17,
   "id": "e2a54259",
   "metadata": {},
   "outputs": [
    {
     "name": "stdout",
     "output_type": "stream",
     "text": [
      "True\n"
     ]
    }
   ],
   "source": [
    "result = (5 > 3 and 2 < 4)  # Output: True\n",
    "print(result)"
   ]
  },
  {
   "cell_type": "markdown",
   "id": "288cb819",
   "metadata": {},
   "source": [
    "#### OR (or): Returns True if at least one statement is true."
   ]
  },
  {
   "cell_type": "code",
   "execution_count": 18,
   "id": "222216cb",
   "metadata": {},
   "outputs": [
    {
     "name": "stdout",
     "output_type": "stream",
     "text": [
      "True\n"
     ]
    }
   ],
   "source": [
    "result = (5 > 3 or 2 > 4)  # Output: True\n",
    "print(result)"
   ]
  },
  {
   "cell_type": "markdown",
   "id": "498e1ec9",
   "metadata": {},
   "source": [
    "#### NOT (not): Reverses the result; returns False if the result is true."
   ]
  },
  {
   "cell_type": "code",
   "execution_count": 19,
   "id": "10afef74",
   "metadata": {},
   "outputs": [
    {
     "name": "stdout",
     "output_type": "stream",
     "text": [
      "False\n"
     ]
    }
   ],
   "source": [
    "result = not(5 > 3)  # Output: False\n",
    "print(result)"
   ]
  },
  {
   "cell_type": "markdown",
   "id": "a42d1567",
   "metadata": {},
   "source": [
    "## 4. Assignment Operators\n",
    "Assignment operators are used to assign values to variables."
   ]
  },
  {
   "cell_type": "markdown",
   "id": "3e2c1b79",
   "metadata": {},
   "source": [
    "#### Assign (=): Assigns a value to a variable."
   ]
  },
  {
   "cell_type": "code",
   "execution_count": 20,
   "id": "69697a5f",
   "metadata": {},
   "outputs": [
    {
     "name": "stdout",
     "output_type": "stream",
     "text": [
      "5\n"
     ]
    }
   ],
   "source": [
    "x = 5\n",
    "print(x)"
   ]
  },
  {
   "cell_type": "markdown",
   "id": "3fe18e53",
   "metadata": {},
   "source": [
    "#### Add and Assign (+=): Adds and assigns the result to the variable."
   ]
  },
  {
   "cell_type": "code",
   "execution_count": 21,
   "id": "78129384",
   "metadata": {},
   "outputs": [
    {
     "name": "stdout",
     "output_type": "stream",
     "text": [
      "8\n"
     ]
    }
   ],
   "source": [
    "x += 3  # Equivalent to x = x + 3\n",
    "print(x)"
   ]
  },
  {
   "cell_type": "markdown",
   "id": "3c73633f",
   "metadata": {},
   "source": [
    "#### Subtract and Assign (-=): Subtracts and assigns the result to the variable."
   ]
  },
  {
   "cell_type": "code",
   "execution_count": 22,
   "id": "a82e0904",
   "metadata": {},
   "outputs": [
    {
     "name": "stdout",
     "output_type": "stream",
     "text": [
      "5\n"
     ]
    }
   ],
   "source": [
    "x -= 3  # Equivalent to x = x - 3\n",
    "print(x)"
   ]
  },
  {
   "cell_type": "markdown",
   "id": "29b512f1",
   "metadata": {},
   "source": [
    "#### Multiply and Assign (*=): Multiplies and assigns the result to the variable.\n"
   ]
  },
  {
   "cell_type": "code",
   "execution_count": 23,
   "id": "0cd3dcec",
   "metadata": {},
   "outputs": [
    {
     "name": "stdout",
     "output_type": "stream",
     "text": [
      "15\n"
     ]
    }
   ],
   "source": [
    "x *= 3  # Equivalent to x = x * 3\n",
    "print(x)"
   ]
  },
  {
   "cell_type": "markdown",
   "id": "cf46f0a4",
   "metadata": {},
   "source": [
    "#### Divide and Assign (/=): Divides and assigns the result to the variable.\n"
   ]
  },
  {
   "cell_type": "code",
   "execution_count": 24,
   "id": "6926c117",
   "metadata": {},
   "outputs": [
    {
     "name": "stdout",
     "output_type": "stream",
     "text": [
      "5.0\n"
     ]
    }
   ],
   "source": [
    "x /= 3  # Equivalent to x = x / 3\n",
    "print(x)"
   ]
  },
  {
   "cell_type": "markdown",
   "id": "d9d9a4a3",
   "metadata": {},
   "source": [
    "#### Floor Divide and Assign (//=): Floor divides and assigns the result to the variable.\n"
   ]
  },
  {
   "cell_type": "code",
   "execution_count": 25,
   "id": "fabc160a",
   "metadata": {},
   "outputs": [
    {
     "name": "stdout",
     "output_type": "stream",
     "text": [
      "1.0\n"
     ]
    }
   ],
   "source": [
    "x //= 3  # Equivalent to x = x // 3\n",
    "print(x)\n"
   ]
  },
  {
   "cell_type": "markdown",
   "id": "0478295e",
   "metadata": {},
   "source": [
    "#### Modulus and Assign (%=): Takes modulus and assigns the result to the variable.\n"
   ]
  },
  {
   "cell_type": "code",
   "execution_count": 26,
   "id": "6f8b93b0",
   "metadata": {},
   "outputs": [
    {
     "name": "stdout",
     "output_type": "stream",
     "text": [
      "1.0\n"
     ]
    }
   ],
   "source": [
    "x %= 3  # Equivalent to x = x % 3\n",
    "print(x)\n"
   ]
  },
  {
   "cell_type": "markdown",
   "id": "c52d4d66",
   "metadata": {},
   "source": [
    "#### Exponent and Assign (**=): Raises to the power and assigns the result to the variable.\n"
   ]
  },
  {
   "cell_type": "code",
   "execution_count": 27,
   "id": "d4c3b9fc",
   "metadata": {},
   "outputs": [
    {
     "name": "stdout",
     "output_type": "stream",
     "text": [
      "1.0\n"
     ]
    }
   ],
   "source": [
    "x **= 3  # Equivalent to x = x ** 3\n",
    "print(x)"
   ]
  },
  {
   "cell_type": "markdown",
   "id": "849e8eb1",
   "metadata": {},
   "source": [
    "# Variables\n",
    "Variables are containers for storing data values. In Python, you don't need to declare variables before using them, and the data type of the variable is automatically determined by the value assigned."
   ]
  },
  {
   "cell_type": "markdown",
   "id": "3da048c4",
   "metadata": {},
   "source": [
    "## Key Points About Variables in Python:\n",
    "Naming Conventions:\n",
    "\n",
    "Variable names must start with a letter (a-z, A-Z) or an underscore (_).\n",
    "The subsequent characters can be letters, numbers, or underscores.\n",
    "Variable names are case-sensitive (myVar and myvar are different)."
   ]
  },
  {
   "cell_type": "markdown",
   "id": "46286359",
   "metadata": {},
   "source": [
    "#### Assignment:\n",
    "You can assign a value to a variable using the equals sign (=). The data type of the variable is automatically determined by the value assigned.\n",
    "#### Multiple Assignments:\n",
    "You can assign multiple variables in a single line.\n",
    "#### Reassignment:\n",
    "You can change the value of a variable at any time.\n",
    "#### Swapping Variables:\n",
    "Python allows easy swapping of variable values.\n",
    "##### Example Code:\n"
   ]
  },
  {
   "cell_type": "code",
   "execution_count": 28,
   "id": "fe043594",
   "metadata": {},
   "outputs": [
    {
     "name": "stdout",
     "output_type": "stream",
     "text": [
      "Alice\n",
      "30\n",
      "5.7\n",
      "True\n",
      "1 2 3\n",
      "2 1\n"
     ]
    }
   ],
   "source": [
    "# Assigning values to variables\n",
    "name = \"Alice\"\n",
    "age = 30\n",
    "height = 5.7\n",
    "is_student = True\n",
    "\n",
    "# Printing variable values\n",
    "print(name)       # Output: Alice\n",
    "print(age)        # Output: 30\n",
    "print(height)     # Output: 5.7\n",
    "print(is_student) # Output: True\n",
    "\n",
    "# Multiple assignments\n",
    "x, y, z = 1, 2, 3\n",
    "print(x, y, z)    # Output: 1 2 3\n",
    "\n",
    "# Swapping variables\n",
    "x, y = y, x\n",
    "print(x, y)       # Output: 2 1"
   ]
  },
  {
   "cell_type": "markdown",
   "id": "01d74c72",
   "metadata": {},
   "source": [
    "# Basic Standard Functions in Python.\n",
    "Python has many standard functions that can be utilised, making it easy to write and implement programs. The following are basic functions to familiarise yourself with:\n",
    "\n"
   ]
  },
  {
   "cell_type": "markdown",
   "id": "b3494993",
   "metadata": {},
   "source": [
    "#### print(): Prints the specified message to the console or other standard output device.\n",
    "\n"
   ]
  },
  {
   "cell_type": "code",
   "execution_count": 29,
   "id": "007137e1",
   "metadata": {},
   "outputs": [
    {
     "name": "stdout",
     "output_type": "stream",
     "text": [
      "Hello, World!\n"
     ]
    }
   ],
   "source": [
    "print(\"Hello, World!\")  # Output: Hello, World!\n"
   ]
  },
  {
   "cell_type": "markdown",
   "id": "a1607a44",
   "metadata": {},
   "source": [
    "#### type(): Returns the type of the specified object.\n"
   ]
  },
  {
   "cell_type": "code",
   "execution_count": 30,
   "id": "c0aa5576",
   "metadata": {},
   "outputs": [
    {
     "name": "stdout",
     "output_type": "stream",
     "text": [
      "<class 'int'>\n"
     ]
    }
   ],
   "source": [
    "print(type(5))  # Output: <class 'int'>\n"
   ]
  },
  {
   "cell_type": "markdown",
   "id": "0d27cd82",
   "metadata": {},
   "source": [
    "#### len(): Returns the length (the number of items) of an object.\n"
   ]
  },
  {
   "cell_type": "code",
   "execution_count": 31,
   "id": "1fcc3d6d",
   "metadata": {},
   "outputs": [
    {
     "name": "stdout",
     "output_type": "stream",
     "text": [
      "5\n"
     ]
    }
   ],
   "source": [
    "print(len(\"Hello\"))  # Output: 5"
   ]
  },
  {
   "cell_type": "markdown",
   "id": "f7590194",
   "metadata": {},
   "source": [
    "#### int(), float(), str(), bool(): Convert values to an integer, float, or string, respectively.\n",
    "\n"
   ]
  },
  {
   "cell_type": "code",
   "execution_count": 32,
   "id": "0eb91df7",
   "metadata": {},
   "outputs": [
    {
     "name": "stdout",
     "output_type": "stream",
     "text": [
      "10\n",
      "10.0\n",
      "10\n",
      "True\n"
     ]
    }
   ],
   "source": [
    "print(int(\"10\"))   # Output: 10\n",
    "print(float(\"10\")) # Output: 10.0\n",
    "print(str(10))     # Output: '10'\n",
    "print(bool(10))    # Output: True"
   ]
  },
  {
   "cell_type": "markdown",
   "id": "e6bbefdd",
   "metadata": {},
   "source": [
    "#### input(): Reads a line from input (usually from the user), converts it to a string, and returns it.\n",
    "\n"
   ]
  },
  {
   "cell_type": "code",
   "execution_count": 33,
   "id": "6c123bd0",
   "metadata": {},
   "outputs": [
    {
     "name": "stdout",
     "output_type": "stream",
     "text": [
      "Enter your name: Mutawakkil Sanusi Babasidi\n",
      "Hello, Mutawakkil Sanusi Babasidi\n"
     ]
    }
   ],
   "source": [
    "name = input(\"Enter your name: \")\n",
    "print(\"Hello, \" + name)"
   ]
  },
  {
   "cell_type": "markdown",
   "id": "cdd53696",
   "metadata": {},
   "source": [
    "#### sum(): Sums the items of an iterable from left to right and returns the total.\n"
   ]
  },
  {
   "cell_type": "code",
   "execution_count": 34,
   "id": "67eaf064",
   "metadata": {},
   "outputs": [
    {
     "name": "stdout",
     "output_type": "stream",
     "text": [
      "10\n"
     ]
    }
   ],
   "source": [
    "print(sum([1, 2, 3, 4]))  # Output: 10\n"
   ]
  },
  {
   "cell_type": "markdown",
   "id": "d8d9d0b3",
   "metadata": {},
   "source": [
    "#### max() and min(): Return the largest and smallest items in an iterable, respectively.\n"
   ]
  },
  {
   "cell_type": "code",
   "execution_count": 35,
   "id": "87fca090",
   "metadata": {},
   "outputs": [
    {
     "name": "stdout",
     "output_type": "stream",
     "text": [
      "4\n",
      "1\n"
     ]
    }
   ],
   "source": [
    "print(max(1, 2, 3, 4))  # Output: 4\n",
    "print(min(1, 2, 3, 4))  # Output: 1\n"
   ]
  },
  {
   "cell_type": "markdown",
   "id": "12bbb9ee",
   "metadata": {},
   "source": [
    "#### abs(): Returns the absolute value of a number.\n"
   ]
  },
  {
   "cell_type": "code",
   "execution_count": 36,
   "id": "1513f4b3",
   "metadata": {},
   "outputs": [
    {
     "name": "stdout",
     "output_type": "stream",
     "text": [
      "5\n"
     ]
    }
   ],
   "source": [
    "print(abs(-5))  # Output: 5\n",
    "\n"
   ]
  },
  {
   "cell_type": "markdown",
   "id": "79685f82",
   "metadata": {},
   "source": [
    "#### round(): Rounds a number to a specified number of decimal places.\n"
   ]
  },
  {
   "cell_type": "code",
   "execution_count": 37,
   "id": "ea80d17a",
   "metadata": {},
   "outputs": [
    {
     "name": "stdout",
     "output_type": "stream",
     "text": [
      "3.14\n"
     ]
    }
   ],
   "source": [
    "print(round(3.14159, 2))  # Output: 3.14\n"
   ]
  },
  {
   "cell_type": "markdown",
   "id": "e5939413",
   "metadata": {},
   "source": [
    "#### range(): Generates a sequence of numbers, which is often used in for loops.\n"
   ]
  },
  {
   "cell_type": "code",
   "execution_count": 38,
   "id": "6989231d",
   "metadata": {},
   "outputs": [
    {
     "name": "stdout",
     "output_type": "stream",
     "text": [
      "0\n",
      "1\n",
      "2\n",
      "3\n",
      "4\n"
     ]
    }
   ],
   "source": [
    "for i in range(5):\n",
    "    print(i)\n",
    "# Output: 0 1 2 3 4"
   ]
  },
  {
   "cell_type": "markdown",
   "id": "4f81c2c0",
   "metadata": {},
   "source": [
    "#### list(), tuple(), set(), dict(): Create a list, tuple, set, or dictionary.\n"
   ]
  },
  {
   "cell_type": "code",
   "execution_count": 39,
   "id": "d91220ad",
   "metadata": {},
   "outputs": [
    {
     "name": "stdout",
     "output_type": "stream",
     "text": [
      "['H', 'e', 'l', 'l', 'o']\n",
      "('H', 'e', 'l', 'l', 'o')\n",
      "{'l', 'e', 'H', 'o'}\n",
      "{'a': 1, 'b': 2}\n"
     ]
    }
   ],
   "source": [
    "print(list(\"Hello\"))   # Output: ['H', 'e', 'l', 'l', 'o']\n",
    "print(tuple(\"Hello\"))  # Output: ('H', 'e', 'l', 'l', 'o')\n",
    "print(set(\"Hello\"))    # Output: {'o', 'H', 'e', 'l'}\n",
    "print(dict(a=1, b=2))  # Output: {'a': 1, 'b': 2}\n"
   ]
  },
  {
   "cell_type": "markdown",
   "id": "31ab62f8",
   "metadata": {},
   "source": [
    "#### sorted(): Returns a sorted list of the specified iterable's items.\n"
   ]
  },
  {
   "cell_type": "code",
   "execution_count": 40,
   "id": "5518165b",
   "metadata": {},
   "outputs": [
    {
     "name": "stdout",
     "output_type": "stream",
     "text": [
      "[1, 1, 3, 4, 5, 9]\n"
     ]
    }
   ],
   "source": [
    "print(sorted([3, 1, 4, 1, 5, 9]))  # Output: [1, 1, 3, 4, 5, 9]\n"
   ]
  },
  {
   "cell_type": "markdown",
   "id": "be452396",
   "metadata": {},
   "source": [
    "#### help(): Invokes the built-in help system. It can be used to get documentation on modules, classes, functions, and more.\n"
   ]
  },
  {
   "cell_type": "code",
   "execution_count": 41,
   "id": "54aec450",
   "metadata": {},
   "outputs": [
    {
     "name": "stdout",
     "output_type": "stream",
     "text": [
      "Help on built-in function print in module builtins:\n",
      "\n",
      "print(*args, sep=' ', end='\\n', file=None, flush=False)\n",
      "    Prints the values to a stream, or to sys.stdout by default.\n",
      "    \n",
      "    sep\n",
      "      string inserted between values, default a space.\n",
      "    end\n",
      "      string appended after the last value, default a newline.\n",
      "    file\n",
      "      a file-like object (stream); defaults to the current sys.stdout.\n",
      "    flush\n",
      "      whether to forcibly flush the stream.\n",
      "\n"
     ]
    }
   ],
   "source": [
    "help(print)"
   ]
  },
  {
   "cell_type": "markdown",
   "id": "c6d9a0fe",
   "metadata": {},
   "source": [
    "\n",
    "#### dir(): Returns a list of the attributes and methods of any object (e.g., modules, lists, strings).\n"
   ]
  },
  {
   "cell_type": "code",
   "execution_count": 42,
   "id": "4260dca9",
   "metadata": {},
   "outputs": [
    {
     "name": "stdout",
     "output_type": "stream",
     "text": [
      "['__add__', '__class__', '__contains__', '__delattr__', '__dir__', '__doc__', '__eq__', '__format__', '__ge__', '__getattribute__', '__getitem__', '__getnewargs__', '__getstate__', '__gt__', '__hash__', '__init__', '__init_subclass__', '__iter__', '__le__', '__len__', '__lt__', '__mod__', '__mul__', '__ne__', '__new__', '__reduce__', '__reduce_ex__', '__repr__', '__rmod__', '__rmul__', '__setattr__', '__sizeof__', '__str__', '__subclasshook__', 'capitalize', 'casefold', 'center', 'count', 'encode', 'endswith', 'expandtabs', 'find', 'format', 'format_map', 'index', 'isalnum', 'isalpha', 'isascii', 'isdecimal', 'isdigit', 'isidentifier', 'islower', 'isnumeric', 'isprintable', 'isspace', 'istitle', 'isupper', 'join', 'ljust', 'lower', 'lstrip', 'maketrans', 'partition', 'removeprefix', 'removesuffix', 'replace', 'rfind', 'rindex', 'rjust', 'rpartition', 'rsplit', 'rstrip', 'split', 'splitlines', 'startswith', 'strip', 'swapcase', 'title', 'translate', 'upper', 'zfill']\n"
     ]
    }
   ],
   "source": [
    "print(dir(str))  # Lists all attributes and methods of the string class"
   ]
  },
  {
   "cell_type": "code",
   "execution_count": null,
   "id": "b16cdc6a",
   "metadata": {},
   "outputs": [],
   "source": []
  }
 ],
 "metadata": {
  "kernelspec": {
   "display_name": "Python 3 (ipykernel)",
   "language": "python",
   "name": "python3"
  },
  "language_info": {
   "codemirror_mode": {
    "name": "ipython",
    "version": 3
   },
   "file_extension": ".py",
   "mimetype": "text/x-python",
   "name": "python",
   "nbconvert_exporter": "python",
   "pygments_lexer": "ipython3",
   "version": "3.11.5"
  }
 },
 "nbformat": 4,
 "nbformat_minor": 5
}
